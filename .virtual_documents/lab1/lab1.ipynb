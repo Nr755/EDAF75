




















%load_ext sql





%config SqlMagic.displaylimit = None





%sql sqlite:///lab1.sqlite





%%sql
SELECT  *
FROM    students
LIMIT   4


%%sql
SELECT  *
FROM    departments
LIMIT   4


%%sql
SELECT  *
FROM    courses
LIMIT   4


%%sql
SELECT  *
FROM    finished_courses
LIMIT   4

















%%sql





%%sql





%%sql








%%sql











%%sql





%%sql





%%sql





%%sql








%%sql
DROP VIEW IF EXISTS ...;
CREATE VIEW ... AS





%%sql





%%sql





%%sql





%%sql





%%sql





%%sql











%%sql





%%sql








%%sql





%%sql








%%sql








%%sql





%%sql








%%sql








%%sql








%%sql





%%sql
